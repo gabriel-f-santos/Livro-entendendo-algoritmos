{
  "nbformat": 4,
  "nbformat_minor": 0,
  "metadata": {
    "colab": {
      "name": "quicksort.ipynb",
      "provenance": [],
      "authorship_tag": "ABX9TyMd40JG3fUDOVAOwMiBjdE+",
      "include_colab_link": true
    },
    "kernelspec": {
      "name": "python3",
      "display_name": "Python 3"
    },
    "language_info": {
      "name": "python"
    }
  },
  "cells": [
    {
      "cell_type": "markdown",
      "metadata": {
        "id": "view-in-github",
        "colab_type": "text"
      },
      "source": [
        "<a href=\"https://colab.research.google.com/github/gabriel-f-santos/Livro-entendendo-algoritmos/blob/main/quicksort.ipynb\" target=\"_parent\"><img src=\"https://colab.research.google.com/assets/colab-badge.svg\" alt=\"Open In Colab\"/></a>"
      ]
    },
    {
      "cell_type": "markdown",
      "source": [
        "# 4 - Quicksort\n",
        "\n",
        "## Algoritmo de ordenação que utiliza da técnica dividir para conquistar.\n",
        "\n",
        "Temos 3 elementos para considerar, ao recebermos um array, escolhermos um elemento para ser um pivô (pode ser qualquer posição) e usamos dois subarrays, um subarrays com elementos menores que o pivô e um subarray com elementos maiores que o pivô:\n",
        "\n",
        "array = [0, 1, 10, 5, 7, 2]\n",
        "\n",
        "pivô = array[3] = 5 (começa contando do zero)\n",
        "\n",
        "subarray_menor = [0, 1, 2]\n",
        "\n",
        "subarray_maior = [7, 10]\n",
        "\n",
        "aplicar quicksort recursivamente nos subarrays:\n",
        "\n",
        "quicksort(subarray_menor) + pivô + quicksort(subarray_maior)\n",
        "\n"
      ],
      "metadata": {
        "id": "FoqovHOECW2y"
      }
    },
    {
      "cell_type": "code",
      "execution_count": 16,
      "metadata": {
        "id": "_cWCR_k6CQVX"
      },
      "outputs": [],
      "source": [
        "def quicksort(array):\n",
        "  # print(array)\n",
        "  if len(array) < 2:\n",
        "    return array\n",
        "  else:\n",
        "    pivo = array[0]\n",
        "    menores = [i for i in array[1:] if i <= pivo]\n",
        "    maiores = [i for i in array[1:] if i > pivo]\n",
        "    return quicksort(menores) + [pivo] + quicksort(maiores)"
      ]
    },
    {
      "cell_type": "code",
      "source": [
        "array = [10, 5, 2, 3]\n",
        "print(quicksort(array))"
      ],
      "metadata": {
        "colab": {
          "base_uri": "https://localhost:8080/"
        },
        "id": "T2YU40o6YVRK",
        "outputId": "c35ff71a-526b-486c-f2fa-b8d8070c21b3"
      },
      "execution_count": 17,
      "outputs": [
        {
          "output_type": "stream",
          "name": "stdout",
          "text": [
            "[2, 3, 5, 10]\n"
          ]
        }
      ]
    },
    {
      "cell_type": "code",
      "source": [
        ""
      ],
      "metadata": {
        "id": "fkAj9_jXYaV4"
      },
      "execution_count": null,
      "outputs": []
    }
  ]
}