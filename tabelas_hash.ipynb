{
  "nbformat": 4,
  "nbformat_minor": 0,
  "metadata": {
    "colab": {
      "name": "tabelas_hash.ipynb",
      "provenance": [],
      "authorship_tag": "ABX9TyNpM2aS5y9F6cK76O4dKiuZ",
      "include_colab_link": true
    },
    "kernelspec": {
      "name": "python3",
      "display_name": "Python 3"
    },
    "language_info": {
      "name": "python"
    }
  },
  "cells": [
    {
      "cell_type": "markdown",
      "metadata": {
        "id": "view-in-github",
        "colab_type": "text"
      },
      "source": [
        "<a href=\"https://colab.research.google.com/github/gabriel-f-santos/Livro-entendendo-algoritmos/blob/main/tabelas_hash.ipynb\" target=\"_parent\"><img src=\"https://colab.research.google.com/assets/colab-badge.svg\" alt=\"Open In Colab\"/></a>"
      ]
    },
    {
      "cell_type": "markdown",
      "source": [
        "# 5 - Tabelas hash\n",
        "Com pesquisa simples podemos realizar uma busca O(n), com pesquisa binária O(logn). Com tabelas hash podemos realizar uma busca com um resultado O(1).\n",
        "\n",
        "## Funções hash\n",
        "\n",
        "É uma função na qual inserimos uma string e temos como retorno um número, ela mapeia strings para números de forma consistente.\n",
        "Vantagem na busca, ao inserir uma string na função teremos como retorno um número, que pode ser usado como posição de um array e armazenar algum valor, como preço, assim, se quisermos saber um preço, basta inserir o nome na função hash, obter o indice e retornar o valor, sem precisar percorrer todo o array O(1). \n",
        "\n",
        "A função hash leva em conta o tamanho do array.\n",
        "\n",
        "Em python a tabela hash é implementada na forma de dicionário\n",
        "\n",
        "Se houver colisão em alguma posição da tabela hash, nessa posição devemos usar uma lista encadeada (lista que armazenar valor e o endereço do próximo elemento da lista\n",
        "\n",
        "Fator de carga: deve ser menor que 0,7 para evitar colisões. FC = (N itens tabela)/(N total de esoaços)"
      ],
      "metadata": {
        "id": "85TJ0NPSlfCt"
      }
    },
    {
      "cell_type": "code",
      "execution_count": 1,
      "metadata": {
        "id": "zazD1LpzZ5Bf"
      },
      "outputs": [],
      "source": [
        "def verifica_eleitor(nome):\n",
        "  if votaram.get(nome):\n",
        "    return print(\"pode votar\")\n",
        "  return print(\"não pode votar\")"
      ]
    },
    {
      "cell_type": "code",
      "source": [
        "votaram = {}\n",
        "votaram['gabriel'] = 'sim'\n",
        "verifica_eleitor('gabriel')\n",
        "verifica_eleitor('pedro')"
      ],
      "metadata": {
        "colab": {
          "base_uri": "https://localhost:8080/"
        },
        "id": "YOVd1kjUix5D",
        "outputId": "db4a9325-169d-489a-b6a2-4ca022dbbbc5"
      },
      "execution_count": 3,
      "outputs": [
        {
          "output_type": "stream",
          "name": "stdout",
          "text": [
            "pode votar\n",
            "não pode votar\n"
          ]
        }
      ]
    },
    {
      "cell_type": "code",
      "source": [
        ""
      ],
      "metadata": {
        "id": "U_AupRtuFaH0"
      },
      "execution_count": null,
      "outputs": []
    }
  ]
}