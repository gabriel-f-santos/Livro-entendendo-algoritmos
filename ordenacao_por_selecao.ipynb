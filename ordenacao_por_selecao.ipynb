{
  "nbformat": 4,
  "nbformat_minor": 0,
  "metadata": {
    "colab": {
      "name": "ordenacao_por_selecao.ipynb",
      "provenance": [],
      "authorship_tag": "ABX9TyOMbGtL8Pl15jb1qC1zQWrk",
      "include_colab_link": true
    },
    "kernelspec": {
      "name": "python3",
      "display_name": "Python 3"
    },
    "language_info": {
      "name": "python"
    }
  },
  "cells": [
    {
      "cell_type": "markdown",
      "metadata": {
        "id": "view-in-github",
        "colab_type": "text"
      },
      "source": [
        "<a href=\"https://colab.research.google.com/github/gabriel-f-santos/Livro-entendendo-algoritmos/blob/main/ordenacao_por_selecao.ipynb\" target=\"_parent\"><img src=\"https://colab.research.google.com/assets/colab-badge.svg\" alt=\"Open In Colab\"/></a>"
      ]
    },
    {
      "cell_type": "markdown",
      "source": [
        "# Capítulo 2\n",
        "Arrays: Na memória estão situados um ao lado do outro \n",
        "Listas encadeadas: Na memória estão situados em diferentes posições de memória, assim cada elemento carrega a posição de onde o próximo está alocado na memória.\n",
        "\n",
        "Ao inserir elemento no meio de um array pode ser complicado, se não houver espaço para mover os elementos para frente, será preciso realocar todo o array. Com lista encadeada isso não acontece, basta alterarmos o endereço de memória para qual o elemento do meio apontar.\n",
        "\n",
        "A ordenação por seleção funciona passando por toda a lista, encontra o maior valor e salva em outra lista, essa é uma iteração. Na próxima iteração repetiremos o processo com os itens que sobraram da lista e o processo é repetido até que seja não tenhamos mais itens na lista original. \n",
        "\n",
        "Nesse processo, se a lista tem N elementos, passamos por essa lista n vezes percorrendo os n elementos da lista, assim, a complexidade desse algoritmo é O(n²)"
      ],
      "metadata": {
        "id": "hLCLMZs-clE2"
      }
    },
    {
      "cell_type": "code",
      "execution_count": 1,
      "metadata": {
        "id": "aS7u8xKybpPI"
      },
      "outputs": [],
      "source": [
        "def busca_menor(arr):\n",
        "  menor = arr[0]\n",
        "  menor_indice = 0\n",
        "  for i in range(1, len(arr)):\n",
        "    if arr[i] < menor:\n",
        "      menor = arr[i]\n",
        "      menor_indice = i\n",
        "  return menor_indice"
      ]
    },
    {
      "cell_type": "code",
      "source": [
        "def ordenacao_por_selecao(arr):\n",
        "  novo_arr = []\n",
        "  for i in range(len(arr)):\n",
        "    menor = busca_menor(arr)\n",
        "    novo_arr.append(arr.pop(menor))\n",
        "  return novo_arr"
      ],
      "metadata": {
        "id": "HcBeaVqWPEP0"
      },
      "execution_count": 2,
      "outputs": []
    },
    {
      "cell_type": "code",
      "source": [
        "array = [1, 5, 3, 10, 7, 2, 6]\n",
        "ordenacao_por_selecao(array)"
      ],
      "metadata": {
        "colab": {
          "base_uri": "https://localhost:8080/"
        },
        "id": "sOYEP1FFPgsS",
        "outputId": "e2172755-0f4d-4da2-ccfd-be6a838ea4f6"
      },
      "execution_count": 3,
      "outputs": [
        {
          "output_type": "execute_result",
          "data": {
            "text/plain": [
              "[1, 2, 3, 5, 6, 7, 10]"
            ]
          },
          "metadata": {},
          "execution_count": 3
        }
      ]
    },
    {
      "cell_type": "code",
      "source": [
        ""
      ],
      "metadata": {
        "id": "uDw33b7WPoXh"
      },
      "execution_count": null,
      "outputs": []
    }
  ]
}