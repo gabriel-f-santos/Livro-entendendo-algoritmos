{
  "nbformat": 4,
  "nbformat_minor": 0,
  "metadata": {
    "colab": {
      "name": "recursao.ipynb",
      "provenance": [],
      "authorship_tag": "ABX9TyNaz4631Wjtbl4IU/qWbU9L",
      "include_colab_link": true
    },
    "kernelspec": {
      "name": "python3",
      "display_name": "Python 3"
    },
    "language_info": {
      "name": "python"
    }
  },
  "cells": [
    {
      "cell_type": "markdown",
      "metadata": {
        "id": "view-in-github",
        "colab_type": "text"
      },
      "source": [
        "<a href=\"https://colab.research.google.com/github/gabriel-f-santos/Livro-entendendo-algoritmos/blob/main/recursao.ipynb\" target=\"_parent\"><img src=\"https://colab.research.google.com/assets/colab-badge.svg\" alt=\"Open In Colab\"/></a>"
      ]
    },
    {
      "cell_type": "markdown",
      "source": [
        "# 3 - Recursão.\n",
        "Uma função recursiva é uma função que chama ela mesma, ela pode ser usada para substituir os loops, em termos de desempenho, a recursão pode ser pior, mas se torna um pouco mais legível em alguns casos e alguns importantes algoritmos usam"
      ],
      "metadata": {
        "id": "9WL96XZVV6yW"
      }
    },
    {
      "cell_type": "code",
      "execution_count": 1,
      "metadata": {
        "id": "oPuf08JZV2jA"
      },
      "outputs": [],
      "source": [
        "# contagem regressiva\n",
        "def contagem_regressiva(n):\n",
        "  print(n)\n",
        "  if n < 1:\n",
        "    return\n",
        "  else:\n",
        "    return contagem_regressiva(n-1)"
      ]
    },
    {
      "cell_type": "code",
      "source": [
        "contagem_regressiva(5)"
      ],
      "metadata": {
        "colab": {
          "base_uri": "https://localhost:8080/"
        },
        "id": "-51xxqU1yjSZ",
        "outputId": "c6d9aa27-8927-47c0-bdf2-226e0ef9efbe"
      },
      "execution_count": 2,
      "outputs": [
        {
          "output_type": "stream",
          "name": "stdout",
          "text": [
            "5\n",
            "4\n",
            "3\n",
            "2\n",
            "1\n",
            "0\n"
          ]
        }
      ]
    },
    {
      "cell_type": "code",
      "source": [
        "# contagem regressiva em loop\n",
        "def contagem_regressiva_loop(n):\n",
        "  while (n >= 0):\n",
        "    print(n)\n",
        "    n -= 1"
      ],
      "metadata": {
        "id": "WgbyRhrayqDb"
      },
      "execution_count": 10,
      "outputs": []
    },
    {
      "cell_type": "code",
      "source": [
        "contagem_regressiva_loop(5)"
      ],
      "metadata": {
        "colab": {
          "base_uri": "https://localhost:8080/"
        },
        "id": "qgIGfF-Fy6Ct",
        "outputId": "8dbd32ae-7c3e-44e1-ba14-1109c69d6d6e"
      },
      "execution_count": 11,
      "outputs": [
        {
          "output_type": "stream",
          "name": "stdout",
          "text": [
            "5\n",
            "4\n",
            "3\n",
            "2\n",
            "1\n",
            "0\n"
          ]
        }
      ]
    },
    {
      "cell_type": "code",
      "source": [
        ""
      ],
      "metadata": {
        "id": "h9mvSkQ6y7av"
      },
      "execution_count": null,
      "outputs": []
    },
    {
      "cell_type": "markdown",
      "source": [
        "# Pilha\n",
        "\n",
        "Dados são organizados como se fossem pilhas em uma lanterna, a primeira a entrar é a última a ser retirada. push() -> adiciona item na última posição da pilha e pop() retira da última posição da pilha.\n",
        "\n"
      ],
      "metadata": {
        "id": "mmBO7hi9zajC"
      }
    },
    {
      "cell_type": "code",
      "source": [
        "def sauda2(nome):\n",
        "  print(f\"Como vai {nome}\")\n",
        "\n",
        "def tchau():\n",
        "  print(\"ok, tchau!\")"
      ],
      "metadata": {
        "id": "LOhRg03X3cC_"
      },
      "execution_count": 13,
      "outputs": []
    },
    {
      "cell_type": "code",
      "source": [
        "def sauda(nome):\n",
        "  print(f\"Olá meu nome é {nome}\")\n",
        "  sauda2(nome)\n",
        "  print(f\"Preparando para dizer tchau...\")\n",
        "  tchau()"
      ],
      "metadata": {
        "id": "FYpWEFqt2-r9"
      },
      "execution_count": 14,
      "outputs": []
    },
    {
      "cell_type": "code",
      "source": [
        "def fat(x):\n",
        "  if x == 1:\n",
        "    return 1\n",
        "  else:\n",
        "    return x*fat(x-1)"
      ],
      "metadata": {
        "id": "4ITGYwt73R5v"
      },
      "execution_count": 15,
      "outputs": []
    },
    {
      "cell_type": "code",
      "source": [
        "fat(5)"
      ],
      "metadata": {
        "colab": {
          "base_uri": "https://localhost:8080/"
        },
        "id": "pq3DEqZX7VHH",
        "outputId": "5c69b948-892b-4661-f461-a89a23a1c528"
      },
      "execution_count": 16,
      "outputs": [
        {
          "output_type": "execute_result",
          "data": {
            "text/plain": [
              "120"
            ]
          },
          "metadata": {},
          "execution_count": 16
        }
      ]
    },
    {
      "cell_type": "code",
      "source": [
        ""
      ],
      "metadata": {
        "id": "t9LhdjKn7ZI8"
      },
      "execution_count": null,
      "outputs": []
    }
  ]
}