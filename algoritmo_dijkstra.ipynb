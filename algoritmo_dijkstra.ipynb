{
  "nbformat": 4,
  "nbformat_minor": 0,
  "metadata": {
    "colab": {
      "name": "algoritmo_dijkstra.ipynb",
      "provenance": [],
      "authorship_tag": "ABX9TyOGK4Uz+UJTIRV/SlJSB0AQ",
      "include_colab_link": true
    },
    "kernelspec": {
      "name": "python3",
      "display_name": "Python 3"
    },
    "language_info": {
      "name": "python"
    }
  },
  "cells": [
    {
      "cell_type": "markdown",
      "metadata": {
        "id": "view-in-github",
        "colab_type": "text"
      },
      "source": [
        "<a href=\"https://colab.research.google.com/github/gabriel-f-santos/Livro-entendendo-algoritmos/blob/main/algoritmo_dijkstra.ipynb\" target=\"_parent\"><img src=\"https://colab.research.google.com/assets/colab-badge.svg\" alt=\"Open In Colab\"/></a>"
      ]
    },
    {
      "cell_type": "markdown",
      "source": [
        "# Algoritmo de Dijkstra\n",
        "\n",
        "Grafos ponderados, ou seja, as arestas possuem pesos\n",
        "\n",
        "Passos:\n",
        "\n",
        "- Considerando o vértice inicial, olhe todas as arestas vizinhas e encontre a de menor peso, vá para ela.\n",
        "\n",
        "- Verifique se há um caminho mais barato para os vizinhos desses vfértices, se houver, atualize eles.\n",
        "\n",
        "- repita até ter feito isso para cada vértice do grafo.\n",
        "\n",
        "- Calcule o caminho final."
      ],
      "metadata": {
        "id": "vdkSKZFEUYYh"
      }
    },
    {
      "cell_type": "code",
      "execution_count": 2,
      "metadata": {
        "id": "hx5qHbtnUTco"
      },
      "outputs": [],
      "source": [
        "grafo = {}\n",
        "grafo['inicio'] = {}\n",
        "grafo['inicio']['a'] = 6\n",
        "grafo['inicio']['b'] = 2\n",
        "\n",
        "grafo['a'] = {}\n",
        "grafo['a']['fim'] = 1\n",
        "\n",
        "grafo['b'] = {}\n",
        "grafo['b']['a'] = 3\n",
        "grafo['b']['fim'] = 5\n",
        "\n",
        "grafo['fim'] = {}\n"
      ]
    },
    {
      "cell_type": "code",
      "source": [
        "infinito = float('inf')\n",
        "custos = {}\n",
        "custos['a'] = 6\n",
        "custos['b'] = 2\n",
        "custos['fim'] = infinito\n",
        "\n",
        "pais = {}\n",
        "pais['a'] = 'inicio'\n",
        "pais['b'] = 'inicio'\n",
        "pais['fim'] = None\n",
        "\n",
        "processados = []"
      ],
      "metadata": {
        "id": "Ii_Ei3GkCucK"
      },
      "execution_count": 3,
      "outputs": []
    },
    {
      "cell_type": "code",
      "source": [
        "def ache_no_custo_mais_baixo(custos):\n",
        "  custo_mais_baixo = float('inf')\n",
        "  nodo_custo_mais_baixo = None\n",
        "  for nodo in custos:\n",
        "    custo = custos[nodo]\n",
        "    if custo < custo_mais_baixo and nodo not in processados:\n",
        "      custo_mais_baixo = custo\n",
        "      nodo_custo_mais_baixo = nodo\n",
        "  return nodo_custo_mais_baixo"
      ],
      "metadata": {
        "id": "ykUVSyn2DXgH"
      },
      "execution_count": 6,
      "outputs": []
    },
    {
      "cell_type": "code",
      "source": [
        "nodo = ache_no_custo_mais_baixo(custos)\n",
        "while nodo is not None:\n",
        "  custo = custos[nodo]\n",
        "  vizinhos = grafo[nodo]\n",
        "  for n in vizinhos.keys():\n",
        "    novo_custo = custo + vizinhos[n]\n",
        "    if custos[n] > novo_custo:\n",
        "      custos[n] = novo_custo\n",
        "      pais[n] = nodo\n",
        "  processados.append(nodo)\n",
        "  nodo = ache_no_custo_mais_baixo(custos)\n"
      ],
      "metadata": {
        "id": "F478GW1gD0En"
      },
      "execution_count": 7,
      "outputs": []
    },
    {
      "cell_type": "code",
      "source": [
        ""
      ],
      "metadata": {
        "id": "Kj5wbWCLEmYy"
      },
      "execution_count": null,
      "outputs": []
    }
  ]
}